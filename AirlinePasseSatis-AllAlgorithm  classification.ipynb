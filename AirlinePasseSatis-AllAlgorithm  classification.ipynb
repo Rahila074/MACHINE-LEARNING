{
 "cells": [
  {
   "cell_type": "code",
   "execution_count": null,
   "id": "d48c582c-c8a4-476a-af10-9ce529f421cd",
   "metadata": {},
   "outputs": [],
   "source": [
    "import numpy as np \n",
    "import pandas as pd \n",
    "import matplotlib.pyplot as plt \n",
    "import seaborn as sns \n",
    "#classification means category values\n",
    "#regression continue value"
   ]
  },
  {
   "cell_type": "code",
   "execution_count": null,
   "id": "035e9fed-435d-4011-8462-108b751d2530",
   "metadata": {},
   "outputs": [],
   "source": [
    "df=pd.read_csv(\"airline_passenger_satisfaction.csv\")"
   ]
  },
  {
   "cell_type": "code",
   "execution_count": null,
   "id": "198b969a-0008-4f21-acdc-7febd644cba1",
   "metadata": {},
   "outputs": [],
   "source": [
    "df.head()"
   ]
  },
  {
   "cell_type": "code",
   "execution_count": null,
   "id": "d4869286-ce01-4344-bc67-3fdcc81d619d",
   "metadata": {},
   "outputs": [],
   "source": [
    "df.tail()"
   ]
  },
  {
   "cell_type": "code",
   "execution_count": null,
   "id": "6bf66ab9-bc05-4fde-b7b3-19f7f46ab703",
   "metadata": {},
   "outputs": [],
   "source": [
    "df.info()"
   ]
  },
  {
   "cell_type": "code",
   "execution_count": null,
   "id": "a14d1b87-39fe-4233-a0d7-062d6e779b4b",
   "metadata": {},
   "outputs": [],
   "source": [
    "df.isnull().sum()"
   ]
  },
  {
   "cell_type": "code",
   "execution_count": null,
   "id": "e3296131-7682-4f56-aad9-73225a0c7d8f",
   "metadata": {},
   "outputs": [],
   "source": [
    "df.duplicated().sum()"
   ]
  },
  {
   "cell_type": "code",
   "execution_count": null,
   "id": "a631aea4-e7e9-4e17-b462-50ec497241b4",
   "metadata": {},
   "outputs": [],
   "source": [
    "df.drop_duplicates(inplace=True)"
   ]
  },
  {
   "cell_type": "code",
   "execution_count": null,
   "id": "e74b3c25-83be-4adb-8722-3020a79f4a4b",
   "metadata": {},
   "outputs": [],
   "source": [
    "df.drop(['S.no.','Gender','age'],axis=1,inplace=True)\n",
    "df"
   ]
  },
  {
   "cell_type": "code",
   "execution_count": null,
   "id": "8af37109-3834-48d8-9a63-4006c2c2d317",
   "metadata": {},
   "outputs": [],
   "source": [
    "sat_counts=df['satisfaction'].value_counts()\n",
    "sat_counts"
   ]
  },
  {
   "cell_type": "code",
   "execution_count": null,
   "id": "efdb6505-e7b3-4e2a-8128-9564a07fbe40",
   "metadata": {},
   "outputs": [],
   "source": [
    "mylabels=['neutral or dissatisfied','satisfied']\n",
    "plt.pie(sat_counts,labels=mylabels,autopct='%1.1f%%')\n",
    "plt.title('customer_satisfaction')\n",
    "plt.legend(loc='upper right')\n",
    "plt.show()"
   ]
  },
  {
   "cell_type": "code",
   "execution_count": null,
   "id": "06532d38-abd1-460b-80b3-d62a54085441",
   "metadata": {},
   "outputs": [],
   "source": [
    "df['customer_type'].value_counts()\n"
   ]
  },
  {
   "cell_type": "code",
   "execution_count": null,
   "id": "2ae6a7b2-a6aa-445a-9119-baae9d9b6000",
   "metadata": {},
   "outputs": [],
   "source": [
    "plt.hist(df['customer_type'],color='g')"
   ]
  },
  {
   "cell_type": "code",
   "execution_count": null,
   "id": "373d7d9c-0623-4c67-9bc7-20f7cd4e4f9a",
   "metadata": {},
   "outputs": [],
   "source": [
    "df['type_of_travel'].value_counts()"
   ]
  },
  {
   "cell_type": "code",
   "execution_count": null,
   "id": "24fdab61-8f2a-41e3-b051-44c21073053b",
   "metadata": {},
   "outputs": [],
   "source": [
    "sns.histplot(x=df['type_of_travel'],color='r')"
   ]
  },
  {
   "cell_type": "code",
   "execution_count": null,
   "id": "a0f96df2-4e34-4b81-9c89-1a3b405b3c79",
   "metadata": {},
   "outputs": [],
   "source": [
    "sns.countplot(x='customer_class',data=df)"
   ]
  },
  {
   "cell_type": "code",
   "execution_count": null,
   "id": "b43613b6-d088-4365-bdf7-4e71429caa66",
   "metadata": {},
   "outputs": [],
   "source": [
    "sns.countplot(x='customer_class',hue='satisfaction',data=df)"
   ]
  },
  {
   "cell_type": "code",
   "execution_count": null,
   "id": "e8374336-a98c-49af-8950-70db784af5cb",
   "metadata": {},
   "outputs": [],
   "source": [
    "df1=pd.get_dummies(df[['customer_type','type_of_travel','customer_class']],drop_first=True)\n",
    "df1"
   ]
  },
  {
   "cell_type": "code",
   "execution_count": null,
   "id": "e7f89b04-4075-4fcf-8e95-766eb6a04d1f",
   "metadata": {},
   "outputs": [],
   "source": [
    "df2=pd.concat([df,df1],axis=1)\n",
    "df2"
   ]
  },
  {
   "cell_type": "code",
   "execution_count": null,
   "id": "708a3cbc-a7ab-4e02-91ff-7fd8642cac12",
   "metadata": {},
   "outputs": [],
   "source": [
    "df2=df2.drop(['customer_type','type_of_travel','customer_class'],axis=1)\n",
    "df2"
   ]
  },
  {
   "cell_type": "code",
   "execution_count": null,
   "id": "12d3aac4-0477-481c-a9a0-1b5ee76adc49",
   "metadata": {},
   "outputs": [],
   "source": [
    "df2['satisfaction']=df['satisfaction'].replace({'neutral or dissatisfied':0,'satisfied':1})\n",
    "df2"
   ]
  },
  {
   "cell_type": "code",
   "execution_count": null,
   "id": "b5d3437a-5380-4ea5-8e57-d0fc1ab96955",
   "metadata": {},
   "outputs": [],
   "source": [
    "#sns.countplot(df2['arrival_delay_in_minutes'],color='y')"
   ]
  },
  {
   "cell_type": "code",
   "execution_count": null,
   "id": "ba97fb95-060b-4144-98e6-2cc68447dd5d",
   "metadata": {},
   "outputs": [],
   "source": [
    "df2['arrival_delay_in_minutes']=df2['arrival_delay_in_minutes'].fillna(df2['arrival_delay_in_minutes'].median())"
   ]
  },
  {
   "cell_type": "code",
   "execution_count": null,
   "id": "0328f549-7083-420b-adfd-57397bf61f93",
   "metadata": {},
   "outputs": [],
   "source": [
    "df2.isnull().sum()"
   ]
  },
  {
   "cell_type": "code",
   "execution_count": null,
   "id": "cf839873-3c84-46ec-af6a-0b49cb5faf81",
   "metadata": {},
   "outputs": [],
   "source": [
    "df2.dtypes"
   ]
  },
  {
   "cell_type": "code",
   "execution_count": null,
   "id": "c6c68f00-07d6-4061-9cf9-b9011e6dc1ff",
   "metadata": {},
   "outputs": [],
   "source": [
    "x=df2.drop(['satisfaction'],axis=1)\n",
    "y=df2['satisfaction']"
   ]
  },
  {
   "cell_type": "code",
   "execution_count": null,
   "id": "cff13879-97bb-4fe9-a47c-c26501ac8c77",
   "metadata": {},
   "outputs": [],
   "source": [
    "sns.pointplot(x='satisfaction',y='inflight_service',data=df2)"
   ]
  },
  {
   "cell_type": "code",
   "execution_count": null,
   "id": "0f49fd20-b852-4396-ab23-feddcb575587",
   "metadata": {},
   "outputs": [],
   "source": [
    "from sklearn.model_selection import train_test_split\n",
    "x_train,x_test,y_train,y_test=train_test_split(x,y,test_size=0.3,random_state=42)"
   ]
  },
  {
   "cell_type": "code",
   "execution_count": null,
   "id": "6bd421b6-da20-4caf-88d9-eb7d14170ef4",
   "metadata": {},
   "outputs": [],
   "source": [
    "from sklearn.linear_model import LinearRegression\n",
    "model=LinearRegression()\n",
    "model.fit(x_train,y_train)\n",
    "y_pred=model.predict(x_test)\n",
    "y_pred"
   ]
  },
  {
   "cell_type": "code",
   "execution_count": null,
   "id": "1f80fc46-caac-41b5-a423-0a8146cec5e5",
   "metadata": {},
   "outputs": [],
   "source": [
    "from sklearn.neighbors import KNeighborsClassifier\n",
    "from sklearn.svm import SVC\n",
    "from sklearn.naive_bayes import GaussianNB\n",
    "from sklearn.tree import DecisionTreeClassifier"
   ]
  },
  {
   "cell_type": "code",
   "execution_count": null,
   "id": "be2d5a1a-d0ce-4168-b5ca-1603923df6cc",
   "metadata": {},
   "outputs": [],
   "source": [
    "from sklearn.ensemble import RandomForestClassifier"
   ]
  },
  {
   "cell_type": "code",
   "execution_count": null,
   "id": "bd0d4d0d-1c7d-4f4a-8d45-24b02bfc20e9",
   "metadata": {},
   "outputs": [],
   "source": [
    "knn=KNeighborsClassifier(n_neighbors=5)"
   ]
  },
  {
   "cell_type": "code",
   "execution_count": null,
   "id": "4e3ed7ff-6589-4d22-b63f-4efaada72e1f",
   "metadata": {},
   "outputs": [],
   "source": [
    "nb=GaussianNB()"
   ]
  },
  {
   "cell_type": "code",
   "execution_count": null,
   "id": "f0acc0a6-89b0-4bd1-9241-1ea43e40e0b7",
   "metadata": {},
   "outputs": [],
   "source": [
    "model=SVC()"
   ]
  },
  {
   "cell_type": "code",
   "execution_count": null,
   "id": "82744fa9-9734-4670-beed-84262c4c9f98",
   "metadata": {},
   "outputs": [],
   "source": [
    "dec=DecisionTreeClassifier(criterion='entropy')"
   ]
  },
  {
   "cell_type": "code",
   "execution_count": null,
   "id": "74c6d713-7037-4b2b-bb80-6ec14784b208",
   "metadata": {},
   "outputs": [],
   "source": [
    "ran=RandomForestClassifier(n_estimators=10,criterion='entropy')"
   ]
  },
  {
   "cell_type": "raw",
   "id": "3e2fcd3c-03d9-49ef-8d65-f634a11e3702",
   "metadata": {},
   "source": [
    "#data=[knn,nb,model,dec,ran]"
   ]
  },
  {
   "cell_type": "code",
   "execution_count": null,
   "id": "d1c8c63a-9e9d-416c-9e4c-03e8eb8da0c8",
   "metadata": {},
   "outputs": [],
   "source": [
    "data=[knn,nb,model,dec,ran]"
   ]
  },
  {
   "cell_type": "code",
   "execution_count": null,
   "id": "8d78d4c9-6f2a-47bd-8aaf-6ec447dba7e4",
   "metadata": {},
   "outputs": [],
   "source": [
    "from sklearn.metrics import accuracy_score"
   ]
  },
  {
   "cell_type": "code",
   "execution_count": null,
   "id": "12665fe9-4c1d-4151-8461-a741edb373a5",
   "metadata": {},
   "outputs": [],
   "source": [
    "from sklearn.metrics import classification_report,ConfusionMatrixDisplay,confusion_matrix"
   ]
  },
  {
   "cell_type": "code",
   "execution_count": null,
   "id": "21209414-6fe1-4bf9-9eac-bb8f399db98a",
   "metadata": {},
   "outputs": [],
   "source": [
    "labels=['neutral or dissatisfied','satisfied']\n",
    "for i in data:\n",
    "    i.fit(x_train,y_train)\n",
    "    y_pred=i.predict(x_test)\n",
    "    print(i)\n",
    "    print(\"accuracy score is\",accuracy_score(y_test,y_pred))\n",
    "    print(classification_report(y_test,y_pred))\n",
    "    result=confusion_matrix(y_test,y_pred)\n",
    "    cmd=ConfusionMatrixDisplay(result,display_labels=labels)\n",
    "    cmd.plot()\n",
    "    print(result)\n",
    "    print(\"\")"
   ]
  },
  {
   "cell_type": "code",
   "execution_count": null,
   "id": "19a9ae1a-9362-408d-a368-b934a75c7184",
   "metadata": {},
   "outputs": [],
   "source": []
  },
  {
   "cell_type": "code",
   "execution_count": null,
   "id": "17df22b4-397e-44ce-997e-2deea7679b49",
   "metadata": {},
   "outputs": [],
   "source": []
  },
  {
   "cell_type": "code",
   "execution_count": null,
   "id": "69410237-4375-48ba-ad2e-590cf8efd5b9",
   "metadata": {},
   "outputs": [],
   "source": []
  }
 ],
 "metadata": {
  "kernelspec": {
   "display_name": "Python 3 (ipykernel)",
   "language": "python",
   "name": "python3"
  },
  "language_info": {
   "codemirror_mode": {
    "name": "ipython",
    "version": 3
   },
   "file_extension": ".py",
   "mimetype": "text/x-python",
   "name": "python",
   "nbconvert_exporter": "python",
   "pygments_lexer": "ipython3",
   "version": "3.12.4"
  }
 },
 "nbformat": 4,
 "nbformat_minor": 5
}
